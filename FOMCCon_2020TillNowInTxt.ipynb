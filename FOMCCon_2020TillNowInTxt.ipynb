{
  "nbformat": 4,
  "nbformat_minor": 0,
  "metadata": {
    "colab": {
      "provenance": []
    },
    "kernelspec": {
      "name": "python3",
      "display_name": "Python 3"
    },
    "language_info": {
      "name": "python"
    }
  },
  "cells": [
    {
      "cell_type": "code",
      "execution_count": 2,
      "metadata": {
        "colab": {
          "base_uri": "https://localhost:8080/"
        },
        "id": "Cm_lFD2QtIK6",
        "outputId": "f2cd764a-04f2-4e93-d37c-5467397e94de"
      },
      "outputs": [
        {
          "output_type": "stream",
          "name": "stderr",
          "text": [
            "100%|██████████| 36/36 [00:29<00:00,  1.22it/s]"
          ]
        },
        {
          "output_type": "stream",
          "name": "stdout",
          "text": [
            "所有PDF下载完成！\n"
          ]
        },
        {
          "output_type": "stream",
          "name": "stderr",
          "text": [
            "\n"
          ]
        }
      ],
      "source": [
        "import os\n",
        "import requests\n",
        "from tqdm import tqdm\n",
        "\n",
        "# 创建保存目录\n",
        "os.makedirs(\"FOMC_Press_Conferences\", exist_ok=True)\n",
        "\n",
        "# PDF 链接列表（可自行补充）\n",
        "pdf_links = [\n",
        "    \"https://www.federalreserve.gov/mediacenter/files/FOMCpresconf20250319.pdf\",\n",
        "    \"https://www.federalreserve.gov/mediacenter/files/FOMCpresconf20250129.pdf\",\n",
        "    \"https://www.federalreserve.gov/mediacenter/files/FOMCpresconf20241218.pdf\",\n",
        "    \"https://www.federalreserve.gov/mediacenter/files/FOMCpresconf20241107.pdf\",\n",
        "    \"https://www.federalreserve.gov/mediacenter/files/FOMCpresconf20240918.pdf\",\n",
        "    \"https://www.federalreserve.gov/mediacenter/files/FOMCpresconf20240731.pdf\",\n",
        "    \"https://www.federalreserve.gov/mediacenter/files/FOMCpresconf20231213.pdf\",\n",
        "    \"https://www.federalreserve.gov/mediacenter/files/FOMCpresconf20231101.pdf\",\n",
        "    \"https://www.federalreserve.gov/mediacenter/files/FOMCpresconf20230920.pdf\",\n",
        "    \"https://www.federalreserve.gov/mediacenter/files/FOMCpresconf20230726.pdf\",\n",
        "    \"https://www.federalreserve.gov/mediacenter/files/FOMCpresconf20230614.pdf\",\n",
        "    \"https://www.federalreserve.gov/mediacenter/files/FOMCpresconf20230503.pdf\",\n",
        "    \"https://www.federalreserve.gov/mediacenter/files/FOMCpresconf20221214.pdf\",\n",
        "    \"https://www.federalreserve.gov/mediacenter/files/FOMCpresconf20221102.pdf\",\n",
        "    \"https://www.federalreserve.gov/mediacenter/files/FOMCpresconf20220921.pdf\",\n",
        "    \"https://www.federalreserve.gov/mediacenter/files/FOMCpresconf20220727.pdf\",\n",
        "    \"https://www.federalreserve.gov/mediacenter/files/FOMCpresconf20220615.pdf\",\n",
        "    \"https://www.federalreserve.gov/mediacenter/files/FOMCpresconf20220504.pdf\",\n",
        "    \"https://www.federalreserve.gov/mediacenter/files/FOMCpresconf20220316.pdf\",\n",
        "    \"https://www.federalreserve.gov/mediacenter/files/FOMCpresconf20220126.pdf\",\n",
        "    \"https://www.federalreserve.gov/mediacenter/files/FOMCpresconf20211215.pdf\",\n",
        "    \"https://www.federalreserve.gov/mediacenter/files/FOMCpresconf20211103.pdf\",\n",
        "    \"https://www.federalreserve.gov/mediacenter/files/FOMCpresconf20210922.pdf\",\n",
        "    \"https://www.federalreserve.gov/mediacenter/files/FOMCpresconf20210728.pdf\",\n",
        "    \"https://www.federalreserve.gov/mediacenter/files/FOMCpresconf20210616.pdf\",\n",
        "    \"https://www.federalreserve.gov/mediacenter/files/FOMCpresconf20210428.pdf\",\n",
        "    \"https://www.federalreserve.gov/mediacenter/files/FOMCpresconf20210317.pdf\",\n",
        "    \"https://www.federalreserve.gov/mediacenter/files/FOMCpresconf20210127.pdf\",\n",
        "    \"https://www.federalreserve.gov/mediacenter/files/FOMCpresconf20201216.pdf\",\n",
        "    \"https://www.federalreserve.gov/mediacenter/files/FOMCpresconf20201105.pdf\",\n",
        "    \"https://www.federalreserve.gov/mediacenter/files/FOMCpresconf20200916.pdf\",\n",
        "    \"https://www.federalreserve.gov/mediacenter/files/FOMCpresconf20200729.pdf\",\n",
        "    \"https://www.federalreserve.gov/mediacenter/files/FOMCpresconf20200610.pdf\",\n",
        "    \"https://www.federalreserve.gov/mediacenter/files/FOMCpresconf20200429.pdf\",\n",
        "    \"https://www.federalreserve.gov/mediacenter/files/FOMCpresconf20200315.pdf\",\n",
        "    \"https://www.federalreserve.gov/mediacenter/files/FOMCpresconf20200129.pdf\",\n",
        "\n",
        "]\n",
        "\n",
        "# 下载PDF\n",
        "for url in tqdm(pdf_links):\n",
        "    filename = os.path.join(\"FOMC_Press_Conferences\", url.split(\"/\")[-1])\n",
        "    response = requests.get(url)\n",
        "    with open(filename, \"wb\") as f:\n",
        "        f.write(response.content)\n",
        "\n",
        "print(\"所有PDF下载完成！\")"
      ]
    },
    {
      "cell_type": "code",
      "source": [
        "!pip install PyPDF2"
      ],
      "metadata": {
        "colab": {
          "base_uri": "https://localhost:8080/"
        },
        "id": "y8k3TyJ7vOY4",
        "outputId": "788528b7-1da6-4c71-a998-55ae5d85f718"
      },
      "execution_count": 4,
      "outputs": [
        {
          "output_type": "stream",
          "name": "stdout",
          "text": [
            "Collecting PyPDF2\n",
            "  Downloading pypdf2-3.0.1-py3-none-any.whl.metadata (6.8 kB)\n",
            "Downloading pypdf2-3.0.1-py3-none-any.whl (232 kB)\n",
            "\u001b[2K   \u001b[90m━━━━━━━━━━━━━━━━━━━━━━━━━━━━━━━━━━━━━━━━\u001b[0m \u001b[32m232.6/232.6 kB\u001b[0m \u001b[31m3.6 MB/s\u001b[0m eta \u001b[36m0:00:00\u001b[0m\n",
            "\u001b[?25hInstalling collected packages: PyPDF2\n",
            "Successfully installed PyPDF2-3.0.1\n"
          ]
        }
      ]
    },
    {
      "cell_type": "code",
      "source": [
        "import os\n",
        "from PyPDF2 import PdfReader\n",
        "import re\n",
        "\n",
        "input_dir = \"FOMC_Press_Conferences\"\n",
        "output_dir = \"FOMC_Txt\"\n",
        "os.makedirs(output_dir, exist_ok=True)\n",
        "\n",
        "def clean_text(text):\n",
        "    # 移除换页符号、重复空格、换行\n",
        "    text = re.sub(r'\\s+', ' ', text)\n",
        "    # 去除页脚中的页码如: \"Page 1 of 27\"\n",
        "    text = re.sub(r'Page\\s+\\d+\\s+of\\s+\\d+', '', text, flags=re.IGNORECASE)\n",
        "    # 去除“Transcript of Chair Powell’s Press Conference FINAL Page...”\n",
        "    text = re.sub(r'Transcript of Chair.*?Press Conference FINAL Page.*?PM', '', text, flags=re.IGNORECASE)\n",
        "    return text.strip()\n",
        "\n",
        "# 处理所有 PDF\n",
        "for filename in os.listdir(input_dir):\n",
        "    if filename.endswith(\".pdf\"):\n",
        "        pdf_path = os.path.join(input_dir, filename)\n",
        "        reader = PdfReader(pdf_path)\n",
        "\n",
        "        all_text = \"\"\n",
        "        for page in reader.pages:\n",
        "            all_text += page.extract_text() + \"\\n\"\n",
        "\n",
        "        cleaned = clean_text(all_text)\n",
        "        txt_filename = filename.replace(\".pdf\", \".txt\")\n",
        "        with open(os.path.join(output_dir, txt_filename), \"w\", encoding=\"utf-8\") as f:\n",
        "            f.write(cleaned)\n",
        "\n",
        "print(\"✅ 所有 PDF 已成功转换并清洗为 TXT。\")"
      ],
      "metadata": {
        "colab": {
          "base_uri": "https://localhost:8080/"
        },
        "id": "vVEcu0OctjAm",
        "outputId": "74ae836c-70c4-42e7-8043-d1baeebac59d"
      },
      "execution_count": 5,
      "outputs": [
        {
          "output_type": "stream",
          "name": "stdout",
          "text": [
            "✅ 所有 PDF 已成功转换并清洗为 TXT。\n"
          ]
        }
      ]
    }
  ]
}