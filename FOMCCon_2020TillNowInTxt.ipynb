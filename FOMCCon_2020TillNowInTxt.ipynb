{
  "cells": [
    {
      "cell_type": "code",
      "execution_count": 2,
      "metadata": {},
      "outputs": [
        {
          "name": "stderr",
          "output_type": "stream",
          "text": [
            "/Users/adamxu/Library/Python/3.9/lib/python/site-packages/urllib3/__init__.py:35: NotOpenSSLWarning: urllib3 v2 only supports OpenSSL 1.1.1+, currently the 'ssl' module is compiled with 'LibreSSL 2.8.3'. See: https://github.com/urllib3/urllib3/issues/3020\n",
            "  warnings.warn(\n"
          ]
        }
      ],
      "source": [
        "import os\n",
        "import requests\n",
        "from tqdm import tqdm"
      ]
    },
    {
      "cell_type": "code",
      "execution_count": 3,
      "metadata": {
        "colab": {
          "base_uri": "https://localhost:8080/"
        },
        "id": "Cm_lFD2QtIK6",
        "outputId": "f2cd764a-04f2-4e93-d37c-5467397e94de"
      },
      "outputs": [
        {
          "name": "stderr",
          "output_type": "stream",
          "text": [
            "100%|██████████| 53/53 [00:06<00:00,  8.14it/s]"
          ]
        },
        {
          "name": "stdout",
          "output_type": "stream",
          "text": [
            "所有PDF下载完成！\n"
          ]
        },
        {
          "name": "stderr",
          "output_type": "stream",
          "text": [
            "\n"
          ]
        }
      ],
      "source": [
        "import os\n",
        "import requests\n",
        "from tqdm import tqdm\n",
        "\n",
        "# 创建保存目录\n",
        "os.makedirs(\"FOMC_Press_Conferences\", exist_ok=True)\n",
        "\n",
        "# PDF 链接列表（可自行补充）\n",
        "pdf_links = [\n",
        "    \"https://www.federalreserve.gov/mediacenter/files/FOMCpresconf20150318.pdf\",\n",
        "    \"https://www.federalreserve.gov/mediacenter/files/FOMCpresconf20150617.pdf\",\n",
        "    \"https://www.federalreserve.gov/mediacenter/files/FOMCpresconf20150917.pdf\",\n",
        "    \"https://www.federalreserve.gov/mediacenter/files/FOMCpresconf20151216.pdf\",\n",
        "    \"https://www.federalreserve.gov/mediacenter/files/FOMCpresconf20160316.pdf\",\n",
        "    \"https://www.federalreserve.gov/mediacenter/files/FOMCpresconf20160615.pdf\",\n",
        "    \"https://www.federalreserve.gov/mediacenter/files/FOMCpresconf20160921.pdf\",\n",
        "    \"https://www.federalreserve.gov/mediacenter/files/FOMCpresconf20161214.pdf\",\n",
        "    \"https://www.federalreserve.gov/mediacenter/files/FOMCpresconf20170315.pdf\",\n",
        "    \"https://www.federalreserve.gov/mediacenter/files/FOMCpresconf20170614.pdf\",\n",
        "    \"https://www.federalreserve.gov/mediacenter/files/FOMCpresconf20170920.pdf\",\n",
        "    \"https://www.federalreserve.gov/mediacenter/files/FOMCpresconf20171213.pdf\",\n",
        "    \"https://www.federalreserve.gov/mediacenter/files/FOMCpresconf20180321.pdf\",\n",
        "    \"https://www.federalreserve.gov/mediacenter/files/FOMCpresconf20180613.pdf\",\n",
        "    \"https://www.federalreserve.gov/mediacenter/files/FOMCpresconf20180926.pdf\",\n",
        "    \"https://www.federalreserve.gov/mediacenter/files/FOMCpresconf20181219.pdf\",\n",
        "    \"https://www.federalreserve.gov/mediacenter/files/FOMCpresconf20190320.pdf\",\n",
        "    \"https://www.federalreserve.gov/mediacenter/files/FOMCpresconf20190619.pdf\",\n",
        "    \"https://www.federalreserve.gov/mediacenter/files/FOMCpresconf20190918.pdf\",\n",
        "    \"https://www.federalreserve.gov/mediacenter/files/FOMCpresconf20191211.pdf\",\n",
        "    \"https://www.federalreserve.gov/mediacenter/files/FOMCpresconf20200315.pdf\",\n",
        "    \"https://www.federalreserve.gov/mediacenter/files/FOMCpresconf20200429.pdf\",\n",
        "    \"https://www.federalreserve.gov/mediacenter/files/FOMCpresconf20200610.pdf\",\n",
        "    \"https://www.federalreserve.gov/mediacenter/files/FOMCpresconf20200729.pdf\",\n",
        "    \"https://www.federalreserve.gov/mediacenter/files/FOMCpresconf20200916.pdf\",\n",
        "    \"https://www.federalreserve.gov/mediacenter/files/FOMCpresconf20201105.pdf\",\n",
        "    \"https://www.federalreserve.gov/mediacenter/files/FOMCpresconf20201216.pdf\",\n",
        "    \"https://www.federalreserve.gov/mediacenter/files/FOMCpresconf20210127.pdf\",\n",
        "    \"https://www.federalreserve.gov/mediacenter/files/FOMCpresconf20210317.pdf\",\n",
        "    \"https://www.federalreserve.gov/mediacenter/files/FOMCpresconf20210428.pdf\",\n",
        "    \"https://www.federalreserve.gov/mediacenter/files/FOMCpresconf20210616.pdf\",\n",
        "    \"https://www.federalreserve.gov/mediacenter/files/FOMCpresconf20210728.pdf\",\n",
        "    \"https://www.federalreserve.gov/mediacenter/files/FOMCpresconf20210922.pdf\",\n",
        "    \"https://www.federalreserve.gov/mediacenter/files/FOMCpresconf20211103.pdf\",\n",
        "    \"https://www.federalreserve.gov/mediacenter/files/FOMCpresconf20211215.pdf\",\n",
        "    \"https://www.federalreserve.gov/mediacenter/files/FOMCpresconf20220126.pdf\",\n",
        "    \"https://www.federalreserve.gov/mediacenter/files/FOMCpresconf20220316.pdf\",\n",
        "    \"https://www.federalreserve.gov/mediacenter/files/FOMCpresconf20220504.pdf\",\n",
        "    \"https://www.federalreserve.gov/mediacenter/files/FOMCpresconf20220615.pdf\",\n",
        "    \"https://www.federalreserve.gov/mediacenter/files/FOMCpresconf20220727.pdf\",\n",
        "    \"https://www.federalreserve.gov/mediacenter/files/FOMCpresconf20220921.pdf\",\n",
        "    \"https://www.federalreserve.gov/mediacenter/files/FOMCpresconf20221102.pdf\",\n",
        "    \"https://www.federalreserve.gov/mediacenter/files/FOMCpresconf20221214.pdf\",\n",
        "    \"https://www.federalreserve.gov/mediacenter/files/FOMCpresconf20230201.pdf\",\n",
        "    \"https://www.federalreserve.gov/mediacenter/files/FOMCpresconf20230322.pdf\",\n",
        "    \"https://www.federalreserve.gov/mediacenter/files/FOMCpresconf20230503.pdf\",\n",
        "    \"https://www.federalreserve.gov/mediacenter/files/FOMCpresconf20230614.pdf\",\n",
        "    \"https://www.federalreserve.gov/mediacenter/files/FOMCpresconf20230726.pdf\",\n",
        "    \"https://www.federalreserve.gov/mediacenter/files/FOMCpresconf20230920.pdf\",\n",
        "    \"https://www.federalreserve.gov/mediacenter/files/FOMCpresconf20231101.pdf\",\n",
        "    \"https://www.federalreserve.gov/mediacenter/files/FOMCpresconf20231213.pdf\",\n",
        "    \"https://www.federalreserve.gov/mediacenter/files/FOMCpresconf20240131.pdf\",\n",
        "    \"https://www.federalreserve.gov/mediacenter/files/FOMCpresconf20240320.pdf\"\n",
        "\n",
        "\n",
        "\n",
        "]\n",
        "\n",
        "# 下载PDF\n",
        "for url in tqdm(pdf_links):\n",
        "    filename = os.path.join(\"FOMC_Press_Conferences\", url.split(\"/\")[-1])\n",
        "    response = requests.get(url)\n",
        "    with open(filename, \"wb\") as f:\n",
        "        f.write(response.content)\n",
        "\n",
        "print(\"所有PDF下载完成！\")"
      ]
    },
    {
      "cell_type": "code",
      "execution_count": 5,
      "metadata": {
        "colab": {
          "base_uri": "https://localhost:8080/"
        },
        "id": "y8k3TyJ7vOY4",
        "outputId": "788528b7-1da6-4c71-a998-55ae5d85f718"
      },
      "outputs": [
        {
          "name": "stdout",
          "output_type": "stream",
          "text": [
            "zsh:1: command not found: pip\n"
          ]
        }
      ],
      "source": [
        "!pip install PyPDF2"
      ]
    },
    {
      "cell_type": "code",
      "execution_count": 7,
      "metadata": {
        "colab": {
          "base_uri": "https://localhost:8080/"
        },
        "id": "vVEcu0OctjAm",
        "outputId": "74ae836c-70c4-42e7-8043-d1baeebac59d"
      },
      "outputs": [
        {
          "name": "stdout",
          "output_type": "stream",
          "text": [
            "✅ 所有 PDF 已成功转换并清洗为 TXT。\n"
          ]
        }
      ],
      "source": [
        "import os\n",
        "from PyPDF2 import PdfReader\n",
        "import re\n",
        "\n",
        "input_dir = \"FOMC_Press_Conferences\"\n",
        "output_dir = \"FOMC_Txt\"\n",
        "os.makedirs(output_dir, exist_ok=True)\n",
        "\n",
        "def clean_text(text):\n",
        "    # 移除换页符号、重复空格、换行\n",
        "    text = re.sub(r'\\s+', ' ', text)\n",
        "    # 去除页脚中的页码如: \"Page 1 of 27\"\n",
        "    text = re.sub(r'Page\\s+\\d+\\s+of\\s+\\d+', '', text, flags=re.IGNORECASE)\n",
        "    # 去除“Transcript of Chair Powell’s Press Conference FINAL Page...”\n",
        "    text = re.sub(r'Transcript of Chair.*?Press Conference FINAL Page.*?PM', '', text, flags=re.IGNORECASE)\n",
        "    return text.strip()\n",
        "\n",
        "# 处理所有 PDF\n",
        "for filename in os.listdir(input_dir):\n",
        "    if filename.endswith(\".pdf\"):\n",
        "        pdf_path = os.path.join(input_dir, filename)\n",
        "        reader = PdfReader(pdf_path)\n",
        "\n",
        "        all_text = \"\"\n",
        "        for page in reader.pages:\n",
        "            all_text += page.extract_text() + \"\\n\"\n",
        "\n",
        "        cleaned = clean_text(all_text)\n",
        "        txt_filename = filename.replace(\".pdf\", \".txt\")\n",
        "        with open(os.path.join(output_dir, txt_filename), \"w\", encoding=\"utf-8\") as f:\n",
        "            f.write(cleaned)\n",
        "\n",
        "print(\"✅ 所有 PDF 已成功转换并清洗为 TXT。\")"
      ]
    },
    {
      "cell_type": "code",
      "execution_count": null,
      "metadata": {},
      "outputs": [],
      "source": []
    }
  ],
  "metadata": {
    "colab": {
      "provenance": []
    },
    "kernelspec": {
      "display_name": "Python 3",
      "name": "python3"
    },
    "language_info": {
      "codemirror_mode": {
        "name": "ipython",
        "version": 3
      },
      "file_extension": ".py",
      "mimetype": "text/x-python",
      "name": "python",
      "nbconvert_exporter": "python",
      "pygments_lexer": "ipython3",
      "version": "3.9.6"
    }
  },
  "nbformat": 4,
  "nbformat_minor": 0
}
